{
 "cells": [
  {
   "cell_type": "code",
   "execution_count": 3,
   "metadata": {},
   "outputs": [],
   "source": [
    "import pandas as pd\n",
    "import statsmodels.formula.api as sm\n",
    "import statsmodels.regression.linear_model as lm\n",
    "import matplotlib.pyplot as plt\n",
    "\n",
    "# from IPython.display import display, HTML\n",
    "# import numpy as np\n",
    "# import plotly.express as px\n",
    "# from scipy import stats\n",
    "# import seaborn as sns"
   ]
  },
  {
   "cell_type": "markdown",
   "metadata": {},
   "source": [
    "# Final Project: Question 2\n",
    "\n",
    "- Which factors affect the monetary rewards of appealing? \n",
    "- What influences how much money one might gain from a successful appeal?\n",
    "\n",
    "Utilize multivariate OLS. Our goal is to understand whether there is bias or unfairness in the tax system."
   ]
  },
  {
   "cell_type": "code",
   "execution_count": 9,
   "metadata": {},
   "outputs": [
    {
     "name": "stdout",
     "output_type": "stream",
     "text": [
      "Dataset Description:\n",
      " Original Format: comma-separated values file\n",
      " Observations: Random sample of property tax appeals within Cook County\n",
      " Number of observations (rows): 19036\n",
      " Number of features (columns): 26\n",
      " Feature names:   appeal, asian, av1, avg_school_score\n",
      "\t\t, beds, black, college, condo\n",
      "\t\t, elem_score, high_school_score, hispanic, homeowner\n",
      "\t\t, medhinc, pcity, pdir, pin14\n",
      "\t\t, poverty, pstreet, squarefoot, taxes\n",
      "\t\t, tcity, tri, value, walkfac\n",
      "\t\t, walkscore, white\n",
      " Dependent variable: appeal\n",
      "   *appeal = dollar amount deducted from assessed value after property owner appealed. If NA there was no appeal.\n",
      " Source: Cook County Assessor's Office\n",
      " Contact: datascience@cookcountyassessor.com\n"
     ]
    }
   ],
   "source": [
    "df = pd.read_csv('project2data.csv')\n",
    "\n",
    "print('Dataset Description:')\n",
    "print(' Original Format: comma-separated values file')\n",
    "print(' Observations: Random sample of property tax appeals within Cook County')\n",
    "print(' Number of observations (rows):', df.shape[0])\n",
    "print(' Number of features (columns):', df.shape[1])\n",
    "print(' Feature names:  ',\n",
    "      ', '.join([(element + \"\\n\\t\\t\") if (index % 4 ==0) else element \\\n",
    "                for index, element in enumerate(sorted(df.columns), start=1)]))\n",
    "print(\" Dependent variable: appeal\")\n",
    "print(\"   *appeal = dollar amount deducted from assessed value after property owner appealed. If NA there was no appeal.\")\n",
    "print(\" Source: Cook County Assessor's Office\")\n",
    "print(' Contact: datascience@cookcountyassessor.com')"
   ]
  },
  {
   "cell_type": "code",
   "execution_count": null,
   "metadata": {},
   "outputs": [],
   "source": []
  },
  {
   "cell_type": "code",
   "execution_count": null,
   "metadata": {},
   "outputs": [],
   "source": []
  }
 ],
 "metadata": {
  "interpreter": {
   "hash": "e1df45a5640ee0f8bdadd97b767e7dd3b6bed18a8834ecd98030644fd060d23b"
  },
  "kernelspec": {
   "display_name": "Python 3.9.7 ('.venv': venv)",
   "language": "python",
   "name": "python3"
  },
  "language_info": {
   "codemirror_mode": {
    "name": "ipython",
    "version": 3
   },
   "file_extension": ".py",
   "mimetype": "text/x-python",
   "name": "python",
   "nbconvert_exporter": "python",
   "pygments_lexer": "ipython3",
   "version": "3.9.7"
  },
  "orig_nbformat": 4
 },
 "nbformat": 4,
 "nbformat_minor": 2
}
